{
 "cells": [
  {
   "cell_type": "code",
   "execution_count": 1,
   "metadata": {},
   "outputs": [
    {
     "data": {
      "text/plain": [
       "'Процент соискателей по городам:'"
      ]
     },
     "metadata": {},
     "output_type": "display_data"
    },
    {
     "data": {
      "text/plain": [
       "Москва              37%\n",
       "другие              35%\n",
       "город-миллионник    16%\n",
       "Санкт-Петербург     11%\n",
       "Name: Город, dtype: object"
      ]
     },
     "metadata": {},
     "output_type": "display_data"
    },
    {
     "data": {
      "text/plain": [
       "'Процент соискателей, готовых одновременно к переездам и командировкам:'"
      ]
     },
     "metadata": {},
     "output_type": "display_data"
    },
    {
     "data": {
      "text/plain": [
       "'21%'"
      ]
     },
     "metadata": {},
     "output_type": "display_data"
    }
   ],
   "source": [
    "import pandas as pd\n",
    "\n",
    "data_hh = pd.read_csv('data/dst-3.0_16_1_hh_database.csv', sep=';')\n",
    "\n",
    "def get_city_category(location_data:str):\n",
    "    million_cities = ['Новосибирск', 'Екатеринбург', 'Нижний Новгород', 'Казань', 'Челябинск', 'Омск',\n",
    "                  'Самара', 'Ростов-на-Дону', 'Уфа', 'Красноярск', 'Пермь', 'Воронеж', 'Волгоград']\n",
    "    msk_spb = ['Москва', 'Санкт-Петербург']\n",
    "    city = location_data.split(' , ')[0]\n",
    "    million_city = 'город-миллионник'\n",
    "    other_cities = 'другие'\n",
    "    \n",
    "    if city in msk_spb:\n",
    "        return city\n",
    "    elif city in million_cities:\n",
    "        return million_city\n",
    "    else:\n",
    "        return other_cities\n",
    "\n",
    "def is_ready_to_relocate(location_data:str):\n",
    "    ready_to_relocate = False\n",
    "    location_data_list = location_data.split(' , ')\n",
    "    metro_indicator = 'м. '\n",
    "    \n",
    "    if metro_indicator in location_data_list[1]:\n",
    "        relocation = location_data_list[2]\n",
    "    else:\n",
    "        relocation = location_data_list[1]\n",
    "        \n",
    "    relocation = relocation.split(' (')[0] # delete extra info in brackets about relocation\n",
    "    first_word = relocation.split()[0]\n",
    "    \n",
    "    if first_word != 'не':\n",
    "        ready_to_relocate = True\n",
    "    \n",
    "    return ready_to_relocate\n",
    "\n",
    "def is_ready_to_business_trip(location_data:str):\n",
    "    ready_to_business_trip = False\n",
    "    total_length = len(location_data.split(' , '))\n",
    "    correct_length = 3 # [0] - City, [1] - relocation, [2] - business trip\n",
    "    business_trip_info = location_data.split(' , ')[-1]\n",
    "    first_word = business_trip_info.split()[0]\n",
    "    \n",
    "    if first_word != 'не' and total_length == correct_length: # if business trip data has been lost\n",
    "        ready_to_business_trip = True\n",
    "    \n",
    "    return ready_to_business_trip\n",
    "    \n",
    "data_hh['Город'] = data_hh['Город, переезд, командировки'].apply(get_city_category)\n",
    "data_hh['Готовность к переезду'] = data_hh['Город, переезд, командировки'].apply(is_ready_to_relocate)\n",
    "data_hh['Готовность к командировкам'] = data_hh['Город, переезд, командировки'].apply(is_ready_to_business_trip)\n",
    "applicants_by_cities = data_hh['Город'].value_counts(normalize=True).apply(lambda x: str(round(x * 100)) + '%')\n",
    "relocate_and_trip = str(round(data_hh[(data_hh['Готовность к переезду'] & data_hh['Готовность к командировкам'])].shape[0] / data_hh.shape[0] * 100)) + '%'\n",
    "display('Процент соискателей по городам:',\n",
    "        applicants_by_cities,\n",
    "        'Процент соискателей, готовых одновременно к переездам и командировкам:',\n",
    "        relocate_and_trip)"
   ]
  }
 ],
 "metadata": {
  "kernelspec": {
   "display_name": "Python 3",
   "language": "python",
   "name": "python3"
  },
  "language_info": {
   "codemirror_mode": {
    "name": "ipython",
    "version": 3
   },
   "file_extension": ".py",
   "mimetype": "text/x-python",
   "name": "python",
   "nbconvert_exporter": "python",
   "pygments_lexer": "ipython3",
   "version": "3.10.8 (tags/v3.10.8:aaaf517, Oct 11 2022, 16:50:30) [MSC v.1933 64 bit (AMD64)]"
  },
  "orig_nbformat": 4,
  "vscode": {
   "interpreter": {
    "hash": "fb20c442e0104b8ce40b03cd7341de174458a527309743708071e02be5946d8e"
   }
  }
 },
 "nbformat": 4,
 "nbformat_minor": 2
}
